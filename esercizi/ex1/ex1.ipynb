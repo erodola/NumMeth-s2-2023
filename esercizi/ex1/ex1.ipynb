{
  "cells": [
    {
      "cell_type": "markdown",
      "metadata": {
        "id": "view-in-github",
        "colab_type": "text"
      },
      "source": [
        "<a href=\"https://colab.research.google.com/github/erodola/NumMeth-s2-2023/blob/main/esercizi/ex1/ex1.ipynb\" target=\"_parent\"><img src=\"https://colab.research.google.com/assets/colab-badge.svg\" alt=\"Open In Colab\"/></a>"
      ]
    },
    {
      "cell_type": "markdown",
      "metadata": {
        "collapsed": true,
        "pycharm": {
          "name": "#%% md\n"
        },
        "id": "N9BPguu3gkNR"
      },
      "source": [
        "# Metodi numerici per l'informatica - Esercitazione 1\n",
        "\n",
        "Benvenuti al corso di *Metodi Numerici dell'Informatica*. L'obiettivo delle esercitazioni è quello di impadronirsi dei concetti spiegati nelle lezioni teoriche da un punto di vista pratico. In particolare, useremo il linguaggio *Python 3.8* e la libreria per il calcolo numerico *NumPy*. Le Esercitazioni sono strutturate come Jupyter notebooks in Colab dove vengono presentati richiami alla teoria, esempi eseguibili ed esercizi guidati. Ricordiamo di eseguire i notebooks in ordine sequenziale. Eseguire il notebook in ordine diverso da quello sequenziale puo' portare a risultati non aspettati dato che usiamo variabili aventi lo stesso nome in celle diverse. **Let's have fun!**\n",
        "\n",
        "Gli argomenti dell'Esercitazione 1 sono i seguenti:\n",
        "\n",
        "1. *Vettori*\n",
        "2. *Matrici*\n",
        "\n",
        "Prima di iniziare, come primo step, dobbiamo importare le dipendenze necessarie per eseguire il notebook. Tale operazione sarà eseguita all'inizio di tutti i notebooks futuri. Le due librerie che useremo principalmente sono NumPy, per eseguire calcoli numerici e *Matplotlib* per visualizzare i risultati. Inoltre importiamo il modulo locale `utils.py` per caricare alcune funzionionalità aggiuntive."
      ]
    },
    {
      "cell_type": "code",
      "execution_count": null,
      "outputs": [],
      "source": [
        "import numpy as np\n",
        "import matplotlib.pyplot as plt\n",
        "\n",
        "%matplotlib inline"
      ],
      "metadata": {
        "pycharm": {
          "name": "#%%\n"
        },
        "id": "cUA-5OfRgkNd"
      }
    },
    {
      "cell_type": "markdown",
      "source": [
        "Quando eseguiamo il notebook su Colab bisogna scaricare diversi file locali dalla repository git, che useremo in seguito:"
      ],
      "metadata": {
        "id": "CfHFENwnnOoI"
      }
    },
    {
      "cell_type": "code",
      "source": [
        "!wget https://raw.githubusercontent.com/erodola/NumMeth-s2-2023/main/esercizi/ex1/bitcoin.txt\n",
        "!wget https://github.com/erodola/NumMeth-s2-2023/raw/main/esercizi/ex1/drums.wav\n",
        "!wget https://github.com/erodola/NumMeth-s2-2023/raw/main/esercizi/ex1/bass.wav"
      ],
      "metadata": {
        "id": "hJRhHYT2nTzR"
      },
      "execution_count": null,
      "outputs": []
    },
    {
      "cell_type": "code",
      "source": [
        "ls"
      ],
      "metadata": {
        "id": "pzLvzeAVIkJO"
      },
      "execution_count": null,
      "outputs": []
    },
    {
      "cell_type": "markdown",
      "source": [
        "## 1. Vettori"
      ],
      "metadata": {
        "id": "3U-60qxN2JGN"
      }
    },
    {
      "cell_type": "markdown",
      "source": [
        "### 1.a Creazione di vettori\n",
        "\n",
        "Il datatype fondamentale che NumPy adopera è il `numpy.ndarray`, chiamato anche semplicemente *array* NumPy. Con questa struttura dati possiamo rappresentare un'ampia classe di oggetti algebrici quali vettori, matrici e tensori multidimensionali. Iniziamo con l'oggetto numerico elementare, ossia il vettore.\n",
        "\n",
        "Un vettore (reale) $n$-dimensionale $\\mathbf{x}$  è una sequenza (finita e ordinata) di $n$ numeri reali $x_i \\in \\mathbb{R}$:\n",
        "$$\\mathbf{x} = (x_1, \\dots, x_n)  \\in \\mathbb{R}^n$$\n",
        "\n",
        "In Python possiamo rappresentare un vettore semplicemente con il datatype `list`:"
      ],
      "metadata": {
        "collapsed": false,
        "pycharm": {
          "name": "#%% md\n"
        },
        "id": "ulIz6haAgkNg"
      }
    },
    {
      "cell_type": "code",
      "execution_count": null,
      "outputs": [],
      "source": [
        "x = [0., 3.5, 4.]\n",
        "\n",
        "print(f\"x = {x}\")\n",
        "print(f\"type(x) = {type(x)}\")"
      ],
      "metadata": {
        "pycharm": {
          "name": "#%%\n"
        },
        "id": "ESZImcljgkNi"
      }
    },
    {
      "cell_type": "markdown",
      "source": [
        "Il problema di questa rappresentazione e' l'assenza di un numero cospicuo di operazioni che possono essere effettuate con i vettori numerici. Per esempio se proviamo a creare un un altro vettore $\\mathbf{y}$ come lista di numeri e applichiamo l'operatore `+` di Python, otteniamo la concatenazione delle liste invece del vettore $(-1, 3.5, 6)$:"
      ],
      "metadata": {
        "collapsed": false,
        "pycharm": {
          "name": "#%% md\n"
        },
        "id": "YlLG5zzNgkNl"
      }
    },
    {
      "cell_type": "code",
      "execution_count": null,
      "outputs": [],
      "source": [
        "y = [-1., 0., 2.]\n",
        "print(f\"x + y = {x + y}\")"
      ],
      "metadata": {
        "pycharm": {
          "name": "#%%\n"
        },
        "id": "hFU3J3BvgkNq"
      }
    },
    {
      "cell_type": "markdown",
      "source": [
        "Per creare un vettore numerico quindi usiamo NumPy (il modulo NumPy e' importato come `np`, prasse comune nell'utilizzo della libreria), passando la lista alla funzione `array`:"
      ],
      "metadata": {
        "collapsed": false,
        "pycharm": {
          "name": "#%% md\n"
        },
        "id": "Lv4F7mIvgkNs"
      }
    },
    {
      "cell_type": "code",
      "execution_count": null,
      "outputs": [],
      "source": [
        "x = np.array([0., 3.5, 4.])  # 0. e 4. sono di tipo float64, dato che viene aggiunto un punto alla fine\n",
        "\n",
        "print(f\"x = { x }\")\n",
        "print(f\"type(x) = { type(x) }\")"
      ],
      "metadata": {
        "pycharm": {
          "name": "#%%\n"
        },
        "id": "0UMxn0q3gkNs"
      }
    },
    {
      "cell_type": "markdown",
      "source": [
        "Per conoscere a posteriori il numero di elementi contenuti nel vettore possiamo usare l'attributo `shape`, il quale e' un dato `tuple`. In seguito (quando parleremo di matrici) vedremo più in dettaglio il significato di questo attributo. Per adesso, la dimensione del vettore e' data dall'unico elemento contenuto nella tupla, ossia `shape[0]`:"
      ],
      "metadata": {
        "collapsed": false,
        "pycharm": {
          "name": "#%% md\n"
        },
        "id": "X4jczJXggkNv"
      }
    },
    {
      "cell_type": "code",
      "execution_count": null,
      "outputs": [],
      "source": [
        "print(f\"x.shape = {x.shape}\")\n",
        "print(f\"x.shape[0] = {x.shape[0]}\")"
      ],
      "metadata": {
        "pycharm": {
          "name": "#%%\n"
        },
        "id": "qN0wfsNAgkNx"
      }
    },
    {
      "cell_type": "markdown",
      "source": [
        "Tipicamente adoperiamo vettori reali però può risultare opportuno usare vettori le cui componenti sono numeri interi. Per creare un vettore di interi, la lista passata ad `array` deve contenere solo componenti `int64` (o varianti come `long`). Il vettore $\\mathbf{x}$ definito sopra contiene entrate reali (tipo `float64`). Per conoscere il datatype delle componenti di un array NumPy, si puo' accedere all'attributo `dtype` dell'oggetto."
      ],
      "metadata": {
        "collapsed": false,
        "pycharm": {
          "name": "#%% md\n"
        },
        "id": "mdT56FDsgkNz"
      }
    },
    {
      "cell_type": "code",
      "execution_count": null,
      "outputs": [],
      "source": [
        "x_int = np.array([1, 2, 3])\n",
        "\n",
        "print(f\"x_int = {x_int}\")\n",
        "print(f\"x_int.dtype = {x_int.dtype}\")\n",
        "print(f\"x.dtype = {x.dtype}\")"
      ],
      "metadata": {
        "pycharm": {
          "name": "#%%\n"
        },
        "id": "B1Hb9RNJgkN1"
      }
    },
    {
      "cell_type": "markdown",
      "source": [
        "Se alcune entrate del vettore sono reali ed altre intere, NumPy converte automaticamente le entrate intere in entrate reali e otteniamo un vettore reale:"
      ],
      "metadata": {
        "collapsed": false,
        "pycharm": {
          "name": "#%% md\n"
        },
        "id": "IF3maW5JgkN3"
      }
    },
    {
      "cell_type": "code",
      "execution_count": null,
      "outputs": [],
      "source": [
        "x = np.array([0, 3, 4.]) # notare che 4. è float64\n",
        "print(f\"x = {x}\")"
      ],
      "metadata": {
        "pycharm": {
          "name": "#%%\n"
        },
        "id": "d4Oi6n_7gkN4"
      }
    },
    {
      "cell_type": "markdown",
      "source": [
        "Esistono altri metodi per creare vettori. Tre casi importanti sono i seguenti:\n",
        "\n",
        "1. il vettore nullo $\\mathbf{0} = (0, \\dots, 0)$, `np.zeros`\n",
        "2. il vettore $\\mathbf{1} = (1, \\dots, 1)$ contenente 1 su ogni entrata, `np.ones`\n",
        "3. vettori random, le cui componenti sono (pseudo-)casuali essendo campionate da una distribuzione di probabilità; per campionare dalla distribuzione uniforme in $[0, 1)$ si usa `np.random.rand`\n",
        "\n",
        "Per crearli bisogna specificare solamente la dimensione del vettore:"
      ],
      "metadata": {
        "collapsed": false,
        "pycharm": {
          "name": "#%% md\n"
        },
        "id": "7B2wNG0JgkN8"
      }
    },
    {
      "cell_type": "code",
      "execution_count": null,
      "outputs": [],
      "source": [
        "d = 3\n",
        "\n",
        "x_0 = np.zeros(d)\n",
        "x_1 = np.ones(d)\n",
        "x_rand = np.random.rand(d)\n",
        "\n",
        "print(f\"x_0 = {x_0}\")\n",
        "print(f\"x_1 = {x_1}\")\n",
        "print(f\"x_rand = {x_rand}\")"
      ],
      "metadata": {
        "pycharm": {
          "name": "#%%\n"
        },
        "id": "6IW4UE0IgkN-"
      }
    },
    {
      "cell_type": "markdown",
      "source": [
        "Per indicizzare la componente $i$-esima di un vettore si usa la sintassi delle parentesi quadre (come con le liste Python). Lo stesso vale per lo slicing di sottovettori:"
      ],
      "metadata": {
        "collapsed": false,
        "pycharm": {
          "name": "#%% md\n"
        },
        "id": "tUfQKSidgkN_"
      }
    },
    {
      "cell_type": "code",
      "execution_count": null,
      "outputs": [],
      "source": [
        "x = np.array([3., 2., 1., 0., -1., -2.])\n",
        "print(f\"x = {x}\")\n",
        "\n",
        "for i in range(3):\n",
        "    print(f\"x[{i}] = {x[i]}\")\n",
        "\n",
        "print(f\"x[2:] = {x[2:]}\")\n",
        "print(f\"x[:4] = {x[:4]}\")\n",
        "print(f\"x[2:4] = {x[2:4]}\")"
      ],
      "metadata": {
        "pycharm": {
          "name": "#%%\n"
        },
        "id": "etk2PJfxgkOA"
      }
    },
    {
      "cell_type": "markdown",
      "source": [
        "##### Esercizi\n",
        "\n",
        "1. Crea il vettore $\\mathbf{x} = (1, \\dots, 100) \\in \\mathbb{R}^{100}$\n",
        "2. Crea un vettore di dimensione 10 campionato dalla distribuzione *gaussiana unitaria* (detta anche *normale* o *standard*). (hint: usare la documentazione online di NumPy)"
      ],
      "metadata": {
        "collapsed": false,
        "pycharm": {
          "name": "#%% md\n"
        },
        "id": "nrXwk7QngkOB"
      }
    },
    {
      "cell_type": "code",
      "execution_count": null,
      "outputs": [],
      "source": [
        "# spazio lasciato per gli esercizi"
      ],
      "metadata": {
        "pycharm": {
          "name": "#%%\n"
        },
        "id": "6G1HAlzkgkOC"
      }
    },
    {
      "cell_type": "markdown",
      "source": [
        "### 1.b Visualizzare vettori\n",
        "\n",
        "L'utilita' dei vettori sta nel poter modellare diversi tipi di dato utili nelle applicazioni. Classicamente i vettori sono stati introdotti per rapresentare quantita' geometriche tipiche della fisica (si pensi al concetto di forza in meccanica classica o in elettrodinamica), ma essi possono esprimere entità molto diverse tra di loro spaziando dalle onde sonore alle serie temporali in borsa. Per rendere più chiara questa idea visualizziamo alcuni esempi interessanti.\n",
        "\n",
        "Iniziamo con la visualizzazione classica di un vettore come un segmento orientato nel piano / spazio. Nel caso di uno spazio vettoriale tutti i vettori sono centrati nell'origine. Per visualizzare una freccia in 2D tipicamente si usa la funzione `arrow` di Matplotlib. Noi invece useremo la funzione `quiver`, che verra' usata anche per altri scopi nelle lezioni future.\n",
        "\n",
        "Warning: Matplotlib e' una libreria tanto utile quanto poco elegante. Non dovete imparare a memoria i commandi, l'importante e' ottenere i risultati voluti. Usate Google, o meglio ancora, ChatGPT per ottenere aiuto! Lo scopo del corso e' quello di comprendere bene la parte numerica!"
      ],
      "metadata": {
        "collapsed": false,
        "pycharm": {
          "name": "#%% md\n"
        },
        "id": "MODf3QBVgkOD"
      }
    },
    {
      "cell_type": "code",
      "execution_count": null,
      "outputs": [],
      "source": [
        "def plot_vectors_2d(*xs, colors=None, title=\"\", labels=None, xlim=1.2, ylim=1.2, head_width=0.04, head_length=0.1):\n",
        "    # crea la figura (una figure puo contenere diversi assi cartesiani come subplot) con la dimensione in inch specificata in `figsize`\n",
        "    fig = plt.figure(figsize=(6, 6))\n",
        "    # aggiungiamo un'asse cartesiano alla figura\n",
        "    ax = fig.add_subplot()\n",
        "    # imposta il titolo\n",
        "    ax.set_title(title)\n",
        "    # disegna la freccia;\n",
        "    # i primi due argomenti sono il punto (C_x, C_y) dove viene posizionata la coda della vettore\n",
        "    # il terzo e il quarto argomento sono l'offset (δx, δy) relativo a (C_x, C_y), quindi la testa del vettore si troverà sul punto (C_x+δx, C_y+δy)\n",
        "    # Gli argomenti `angles='xy'` e `scale_units='xy'` dicono a Matplotlib di rappresentare la freccia basandosi sulle sue componenti x e y,\n",
        "    # mentre l'argomento `scale` imposta la lunghezza della freccia. Gli argomenti `width` e `color` vengono utilizzati per impostare la larghezza e il colore della freccia.\n",
        "    for i, x in enumerate(xs):\n",
        "        ax.quiver(0., 0., x[0], x[1], angles='xy', scale_units='xy', scale=1, width=0.01, color=colors[i])\n",
        "        if labels:\n",
        "            ax.text(x=x[0] / 2 + 0.1*x[0], y=x[1]/2, s=labels[i])\n",
        "    # imposta l'intervallo delle x e y visualizzabili\n",
        "    ax.set_xlim([-xlim, xlim])\n",
        "    ax.set_ylim([-ylim, ylim])\n",
        "   \n",
        "    # imposta le label degli assi\n",
        "    ax.set_xlabel('x')\n",
        "    ax.set_ylabel('y')"
      ],
      "metadata": {
        "pycharm": {
          "name": "#%%\n"
        },
        "id": "qJ2scZcHgkOE"
      }
    },
    {
      "cell_type": "code",
      "execution_count": null,
      "outputs": [],
      "source": [
        "x_2d = np.random.rand(2)\n",
        "\n",
        "print(f\"x_2d = {x_2d}\")"
      ],
      "metadata": {
        "pycharm": {
          "name": "#%%\n"
        },
        "id": "k1MA1VSJgkOI"
      }
    },
    {
      "cell_type": "code",
      "execution_count": null,
      "outputs": [],
      "source": [
        "plot_vectors_2d(x_2d, title=\"Un vettore 2D\", colors=['red'])"
      ],
      "metadata": {
        "pycharm": {
          "name": "#%%\n"
        },
        "id": "lY5Cje9AgkOM"
      }
    },
    {
      "cell_type": "markdown",
      "source": [
        "Per visualizzare una freccia 3D, aggiungiamo un terzo argomento per la direzione della freccia nella dimensione z."
      ],
      "metadata": {
        "collapsed": false,
        "pycharm": {
          "name": "#%% md\n"
        },
        "id": "vciomOjYgkON"
      }
    },
    {
      "cell_type": "code",
      "execution_count": null,
      "outputs": [],
      "source": [
        "def plot_vectors_3d(*xs, colors=None, title=\"\", labels=None, xlim=1.2, ylim=1.2, zlim=1.2):\n",
        "    # crea la figura\n",
        "    fig = plt.figure(figsize=(6, 6))\n",
        "    # aggiunge un'asse; notare l'argomento aggiuntivo projection='3d', necessario per creare un asse 3D\n",
        "    ax = fig.add_subplot(projection='3d')\n",
        "    # imposta il titolo\n",
        "    ax.set_title(title)\n",
        "    for i, x in enumerate(xs):\n",
        "        # disegna la freccia;\n",
        "        # i primi tre argomenti sono il punto (C_x, C_y, C_z) dove viene posizionata la coda della vettore\n",
        "        # il terzo, il quarto e il quinto argomento sono l'offset (δx, δy, δz) relativo a (C_x, C_y, C_z), quindi la testa del vettore si troverà sul punto (C_x+δx, C_y+δy, C_z+δz)\n",
        "        # L'argomento `length` deve essere impostato a 1 (scoprirete il perche' nelle lezioni future), `arrow_length_ratio` indica quanto e' grande la punta della freccia,\n",
        "        # `pivot` specifica la posizione della base della freccia (dovrebbe essere impostato su `tail`) e `color` imposta il colore della freccia.\n",
        "        ax.quiver(0., 0., 0., x[0], x[1], x[2], length=1, arrow_length_ratio=0.3, pivot='tail', color=colors[i])\n",
        "        # aggiunge la freccia all'asse\n",
        "        if labels:\n",
        "            ax.text(x=x[0] / 2 + 0.3*x[0], y=x[1]/2, z=x[2] / 2, s=labels[i])\n",
        "\n",
        "    # imposta i limiti del plot come nell'esempio 2D\n",
        "    ax.set_xlim([-xlim, xlim])\n",
        "    ax.set_ylim([-ylim, ylim])\n",
        "    ax.set_zlim([-zlim, zlim])\n",
        "\n",
        "    # imposta le label degli assi\n",
        "    ax.set_xlabel('x')\n",
        "    ax.set_ylabel('y')\n",
        "    ax.set_zlabel('z')"
      ],
      "metadata": {
        "pycharm": {
          "name": "#%%\n"
        },
        "id": "OR2DYevrgkOO"
      }
    },
    {
      "cell_type": "code",
      "execution_count": null,
      "outputs": [],
      "source": [
        "x_3d = np.random.rand(3)\n",
        "print(f\"x_3d = {x_3d}\")"
      ],
      "metadata": {
        "pycharm": {
          "name": "#%%\n"
        },
        "id": "vUUzF64ygkOP"
      }
    },
    {
      "cell_type": "code",
      "execution_count": null,
      "outputs": [],
      "source": [
        "plot_vectors_3d(x_3d, title=\"Un vettore 3D\", colors=['red'])"
      ],
      "metadata": {
        "pycharm": {
          "name": "#%%\n"
        },
        "id": "pMTJuNiDgkOQ"
      }
    },
    {
      "cell_type": "markdown",
      "source": [
        "Quando il numero di componenti di un vettore $\\mathbf{x} = (x_0, \\dots, x_n)$ è maggiore di 3 possiamo trattare il vettore come una sequenza, ossia come un'applicazione $$s: [n] \\to \\mathbb{R},$$ dove $[n] = \\{1, \\dots, n\\}$ è l'insieme dei numeri naturali da $1$ a $n$, ponendo $s(i) = x_i, \\forall i \\in [n]$. Come esempio possiamo visualizzare l'andamento del valore di Bitcoin nelle ultime due settimane (nel 2022). Carichiamo il file `bitcoin.txt` dal disco:"
      ],
      "metadata": {
        "collapsed": false,
        "pycharm": {
          "name": "#%% md\n"
        },
        "id": "AbG5uenagkOQ"
      }
    },
    {
      "cell_type": "code",
      "execution_count": null,
      "outputs": [],
      "source": [
        "# apertura del file\n",
        "f_bitcoin = open('bitcoin.txt')\n",
        "# comprensione di liste per scorrere le righe del file (ogni riga e' un valore numerico) e convertire da `str` a `float`\n",
        "data_bitcoin = [float(line) for line in f_bitcoin]\n",
        "# abbiamo effetuato lo slicing degli ultimi 14 valori nella lista, corrispondenti alle ultime 2 settimane\n",
        "bitcoin = np.array(data_bitcoin)[-14:]\n",
        "\n",
        "print(f\"bitcoin = { bitcoin }\")"
      ],
      "metadata": {
        "pycharm": {
          "name": "#%%\n"
        },
        "id": "7acp8a3hgkOR"
      }
    },
    {
      "cell_type": "markdown",
      "source": [
        "Per visualizzare una sequenza possiamo usare la funzione `plot` di Matplotlib. Il primo argomento e' un vettore contenente $[n]$ mentre il secondo contiene i valori di `bitcoin.txt`."
      ],
      "metadata": {
        "collapsed": false,
        "pycharm": {
          "name": "#%% md\n"
        },
        "id": "yIDtowL7gkOR"
      }
    },
    {
      "cell_type": "code",
      "execution_count": null,
      "outputs": [],
      "source": [
        "x = np.arange(1, 14 + 1) # np.arange(1, 14+1) e' equivalente a np.array(range(1,14+1)); ricordiamo che l'estremo destro del range e' escluso\n",
        "y = bitcoin\n",
        "\n",
        "fig = plt.figure(figsize=(8, 6))\n",
        "ax = fig.add_subplot()\n",
        "# imposta la label dell'asse x\n",
        "ax.set_xlabel('Giorno')\n",
        "# imposta la label dell'asse y\n",
        "ax.set_ylabel('BTC / EUR')\n",
        "ax.plot(x, y, '.-')\n",
        "plt.show()"
      ],
      "metadata": {
        "pycharm": {
          "name": "#%%\n"
        },
        "id": "08yZBmpsgkOS"
      }
    },
    {
      "cell_type": "markdown",
      "source": [
        "Vediamo cosa succede quando osserviamo l'andamento dal giorno `2013-04-29`. Per effettuare il plot bisogna conoscere il numero di elementi nel vettore, quindi lo scopriamo usando `shape`:"
      ],
      "metadata": {
        "collapsed": false,
        "pycharm": {
          "name": "#%% md\n"
        },
        "id": "oJ3g_oCOgkOU"
      }
    },
    {
      "cell_type": "code",
      "execution_count": null,
      "outputs": [],
      "source": [
        "bitcoin_total = np.array(data_bitcoin)"
      ],
      "metadata": {
        "pycharm": {
          "name": "#%%\n"
        },
        "id": "_9EwmFWAkDcb"
      }
    },
    {
      "cell_type": "code",
      "execution_count": null,
      "outputs": [],
      "source": [
        "\n",
        "fig = plt.figure(figsize=(8, 6))\n",
        "ax = fig.add_subplot()\n",
        "# imposta la label dell'asse x\n",
        "ax.set_xlabel('Giorno')\n",
        "# imposta la label dell'asse y\n",
        "ax.set_ylabel('BTC / EUR')\n",
        "ax.plot(np.arange(1, bitcoin_total.shape[0] + 1), bitcoin_total)\n",
        "plt.show()"
      ],
      "metadata": {
        "pycharm": {
          "name": "#%%\n"
        },
        "id": "yWu9799agkOU"
      }
    },
    {
      "cell_type": "markdown",
      "source": [
        "Avendo aggiunto un numero cospicuo di punti osserviamo che la sequenza \"zoomata\" ha l'aspetto di una funzione continua. Come visto nella lezioni teorica, le funzioni continue formano uno spazio vettoriale, quindi le funzioni sono a tutti gli effetti dei vettori."
      ],
      "metadata": {
        "collapsed": false,
        "pycharm": {
          "name": "#%% md\n"
        },
        "id": "qT7IHlgpgkOW"
      }
    },
    {
      "cell_type": "markdown",
      "source": [
        "### 1.c Operazioni su vettori\n",
        "\n",
        "Introduciamo le principali operazioni che possiamo effetuare sui vettori. Come minimo, dobbiamo poter effettuare le due operazioni che definiscono uno spazio vettoriale, ossia la moltiplicazione per uno scalare e la somma tra due vettori. Iniziamo con la moltiplicazione per uno scalare, la quale e' un'operazione unaria rispetto al vettore. Altre operazioni unarie sono definite di seguito."
      ],
      "metadata": {
        "collapsed": false,
        "pycharm": {
          "name": "#%% md\n"
        },
        "id": "vWF7TPs6gkOX"
      }
    },
    {
      "cell_type": "markdown",
      "source": [
        "Possiamo rappresentare uno scalare in NumPy come un array 0-dimensionale, quindi per crearlo, invece di passare una lista alla funzione `array`, passiamo direttamente uno scalare di Python:"
      ],
      "metadata": {
        "collapsed": false,
        "pycharm": {
          "name": "#%% md\n"
        },
        "id": "ejQn9OG0gkOX"
      }
    },
    {
      "cell_type": "code",
      "execution_count": null,
      "outputs": [],
      "source": [
        "# scalare in NumPy\n",
        "c = np.array(2.)\n",
        "\n",
        "print(f\"c = { c }\")\n",
        "print(f\"type(c) = { type(c)}\")\n",
        "print(f\"type(2.) = { type(2.) }\")\n",
        "print(f\"c.dtype = { c.dtype }\")\n",
        "# l'operatore == restituisce vero tra uno scalare Python e la sua versione NumPy\n",
        "print(f\"2. == c = {2. == c}\")"
      ],
      "metadata": {
        "pycharm": {
          "name": "#%%\n"
        },
        "id": "EfNlhTJVgkOZ"
      }
    },
    {
      "cell_type": "code",
      "execution_count": null,
      "outputs": [],
      "source": [
        "# moltiplicazione per scalare\n",
        "x = np.array([0, 3, 4.])\n",
        "\n",
        "print(f\"np.array(2.) * x = { np.array(2.) * x }\")\n",
        "# la moltiplicazione per scalare è commutativa\n",
        "print(f\"x * np.array(2.) = { x * np.array(2.) }\")\n",
        "# moltiplicando per un'dtype int abbiamo la conversione automatica dell'int a float\n",
        "print(f\"x * np.array(2) = { x * np.array(2) }\")\n",
        "# usando il type float64 di Python otteniamo lo stesso risultato\n",
        "# (in pratica usiamo sempre questo dato che risparmiamo di convertire manualmente lo scalare in NumPy)\n",
        "print(f\"2. * x = { 2. * x  }\")"
      ],
      "metadata": {
        "pycharm": {
          "name": "#%%\n"
        },
        "id": "EVnkKABkgkOa"
      }
    },
    {
      "cell_type": "code",
      "execution_count": null,
      "outputs": [],
      "source": [
        "plot_vectors_3d(x, 2 * x, colors=['red', 'blue'], xlim=10., ylim=10., zlim=10., title=\"Moltiplicazione per uno scalare\", labels=['$\\mathbf{x}$', '$2\\mathbf{x}$'])"
      ],
      "metadata": {
        "pycharm": {
          "name": "#%%\n"
        },
        "id": "Q68ilmtfgkOc"
      }
    },
    {
      "cell_type": "markdown",
      "source": [
        "Possiamo trasformare qualsiasi vettore in modo *point-wise*, applicando una funzione qualsiasi su ogni entrata del vettore. Se $f: \\mathbb{R} \\to \\mathbb{R}$ e $\\mathbf{x} = (x_1, \\dots, x_n)$ allora $$ f(\\mathbf{x})= (f(x_1), \\dots, f(x_n)),$$ definisce una trasformazione $f: \\mathbb{R}^n \\to \\mathbb{R}^n$ (abbiamo usato lo stesso nome $f$ per la funzione scalare e la funzione *point-wise* ma avendo la segnatura diversa (il dominio e il codominio) sono applicazioni diverse."
      ],
      "metadata": {
        "collapsed": false,
        "pycharm": {
          "name": "#%% md\n"
        },
        "id": "4Gb_L-wxgkOe"
      }
    },
    {
      "cell_type": "code",
      "execution_count": null,
      "outputs": [],
      "source": [
        "# funzione arbitraria sulle componenti\n",
        "\n",
        "x = np.array([np.pi, 0., np.pi/2.])\n",
        "y = np.array([0., 1.])\n",
        "z = np.array([np.e, 1.])\n",
        "\n",
        "print(f\"np.sin(x) = { np.sin(x) }\")\n",
        "print(f\"np.cos(x) = { np.cos(x) }\")\n",
        "print(f\"np.exp(y) = { np.exp(y) }\")\n",
        "print(f\"np.log(z) = { np.log(z) }\")"
      ],
      "metadata": {
        "pycharm": {
          "name": "#%%\n"
        },
        "id": "Lni9tsm-gkOe"
      }
    },
    {
      "cell_type": "markdown",
      "source": [
        "Altre funzioni agiscono in modo *globale* (non puntuale) su un vettore. Tipicamente queste funzioni restituiscono uno scalare in output. Le più comuni sono il *massimo*, il *minimo*, la *media*. Troviamo il valore massimo, medio e minimo del valore in EUR del Bitcoin nel passato:"
      ],
      "metadata": {
        "collapsed": false,
        "pycharm": {
          "name": "#%% md\n"
        },
        "id": "x3hvGV_QgkOe"
      }
    },
    {
      "cell_type": "code",
      "execution_count": null,
      "outputs": [],
      "source": [
        "print(f\"np.mean(bitcoin_total) = { np.mean(bitcoin_total) }\")\n",
        "print(f\"bitcoin_total.mean() = { bitcoin_total.mean() }\")     # in alternativa possiamo usare il metodo `mean` dell'oggetto\n",
        "print(f\"np.min(bitcoin_total) = {np.min(bitcoin_total)}\")\n",
        "print(f\"np.max(bitcoin_total) = {np.max(bitcoin_total)}\")"
      ],
      "metadata": {
        "pycharm": {
          "name": "#%%\n"
        },
        "id": "usyZp1RKgkOf"
      }
    },
    {
      "cell_type": "markdown",
      "source": [
        "Un'operazione globale molto importante è la norma di un vettore: $$\\Vert \\mathbf{x} \\Vert = \\sqrt{x_1^2 + \\dots + x_n^2}.$$ Per un vettore geometrico in $\\mathbb{R}^2$ o $\\mathbb{R}^3$ la norma e' la distanza tra la testa del vettore e l'origine. Più in generale con la norma possiamo definire distanze naturali tra vettori astratti in spazi vettoriali qualsiasi (riprenderemo questo discorso tra poche righe). In NumPy, la norma di un vettore può essere calcolata attraverso la funzione `linalg.norm` (presente nel sottomodulo `linalg`):"
      ],
      "metadata": {
        "collapsed": false,
        "pycharm": {
          "name": "#%% md\n"
        },
        "id": "7fKMY08HgkOg"
      }
    },
    {
      "cell_type": "code",
      "execution_count": null,
      "outputs": [],
      "source": [
        "x = np.array([1., 2., 3.])\n",
        "y = np.array([0., 2., 0.])\n",
        "\n",
        "print(f\"x = {x}\")\n",
        "print(f\"y = {y}\")\n",
        "\n",
        "print(f\"np.linalg.norm(x) = { np.linalg.norm(x) }\")\n",
        "print(f\"np.linalg.norm(y) = { np.linalg.norm(y) }\")"
      ],
      "metadata": {
        "pycharm": {
          "name": "#%%\n"
        },
        "id": "YIxJPv4IgkOg"
      }
    },
    {
      "cell_type": "markdown",
      "source": [
        "A questo punto possiamo usare quello che abbiamo visto fin'ora per creare (boomer alert!) un *simpatico orologio* ⏰! Usiamo due vettori, `hours` e `minutes`, e applichiamo su ognuno trasformazioni trigonometriche per ruotarli in senso orario: $$\\begin{cases}x_{t+1} = \\cos{(vt)}x_{t} - \\sin{(vt)} y_t \\\\ y_{t+1} = \\sin{(vt)}x_{t} + \\cos{(vt)}y_{t}\\end{cases}.$$ Nel seguente esempio facciamo compiere alla lancetta dei minuti 3 giri mentre quella delle ore ne compie uno (quindi ci troviamo su un pianeta che ruota $12 / 3 = 4$ volte più velocemente della Terra, considerando la stessa durata delle ore!)."
      ],
      "metadata": {
        "collapsed": false,
        "pycharm": {
          "name": "#%% md\n"
        },
        "id": "jH3NA5nugkOh"
      }
    },
    {
      "cell_type": "code",
      "execution_count": null,
      "outputs": [],
      "source": [
        "%%capture\n",
        "from matplotlib import animation, rc\n",
        "from IPython.display import HTML\n",
        "# richiesto per visualizzare l'animazione in Jupyter Notebook\n",
        "rc('animation', html='html5')\n",
        "\n",
        "minutes = np.array([0., 1.])\n",
        "hours = np.array([0., 0.5])\n",
        "\n",
        "v_hours = 2*np.pi\n",
        "v_minutes = 3 * v_hours\n",
        "\n",
        "head_width=0.04\n",
        "head_length=0.1\n",
        "color1 = 'red'\n",
        "color2 = 'blue'\n",
        "\n",
        "fig = plt.figure(figsize=(6, 6))\n",
        "ax = fig.add_subplot()\n",
        "frames = 100\n",
        "\n",
        "def animate(t):\n",
        "    ax.cla()\n",
        "    ax.set_title(\"Orologio alieno\")\n",
        "    # il tempo e' parametrizzato da 0 a 1 (per questo usiamo t/frames)\n",
        "    new_minutes = np.array([np.cos(v_minutes*t/frames)*minutes[0] + np.sin(v_minutes*t/frames)*minutes[1],\n",
        "                       - np.sin(v_minutes*t/frames)*minutes[0] + np.cos(v_minutes*t/frames)*minutes[1]])\n",
        "    new_hours =  np.array([np.cos(v_hours*t/frames)*hours[0] + np.sin(v_hours*t/frames)*hours[1],\n",
        "                           - np.sin(v_hours*t/frames)*hours[0] + np.cos(v_hours*t/frames)*hours[1]]) \n",
        "    ax.quiver(0., 0., new_minutes[0], new_minutes[1], angles='xy', scale_units='xy', scale=1, width=0.01, color=color1)\n",
        "    ax.quiver(0., 0., new_hours[0], new_hours[1], angles='xy', scale_units='xy', scale=1, width=0.01, color=color2)\n",
        "\n",
        "    ax.set_xlim([-1.2, 1.2])\n",
        "    ax.set_ylim([-1.2, 1.2])\n",
        "\n",
        "# `interval` e' il delay tra i frame in ms\n",
        "anim = animation.FuncAnimation(fig, animate, frames=frames, interval=20)"
      ],
      "metadata": {
        "pycharm": {
          "name": "#%%\n"
        },
        "id": "A1gCcWzugkOi"
      }
    },
    {
      "cell_type": "code",
      "source": [
        "anim"
      ],
      "metadata": {
        "id": "si2gvxCq-66f"
      },
      "execution_count": null,
      "outputs": []
    },
    {
      "cell_type": "markdown",
      "source": [
        "Adesso possiamo passare alle operazioni binarie. Come detto in precedenza, l'operazione binaria fondamentale è la somma tra vettori. Riprendiamo l'esempio della Sezione 1.a:"
      ],
      "metadata": {
        "collapsed": false,
        "id": "XxS02cpEgkOj"
      }
    },
    {
      "cell_type": "code",
      "execution_count": null,
      "outputs": [],
      "source": [
        "# somma tra vettori\n",
        "x = np.array([0, 3, 4.])\n",
        "y = np.array([3., 4., -0.5])\n",
        "\n",
        "print(f\"x = {x}\")\n",
        "print(f\"y = {y}\")\n",
        "\n",
        "print(f\"x + y = {x + y}\")\n",
        "# la somma tra vettori gode della proprietà commutativa\n",
        "print(f\"y + x = {y + x}\")"
      ],
      "metadata": {
        "pycharm": {
          "name": "#%%\n"
        },
        "id": "AdUb0Q_HgkOk"
      }
    },
    {
      "cell_type": "code",
      "execution_count": null,
      "outputs": [],
      "source": [
        "plot_vectors_3d(x, y, x + y, colors=['r', 'b', 'g'], xlim=10., ylim=10., zlim=10., title=\"Somma tra vettori\", labels=['$\\mathbf{x}$', '$\\mathbf{y}$', '$\\mathbf{x}+\\mathbf{y}$'])"
      ],
      "metadata": {
        "pycharm": {
          "name": "#%%\n"
        },
        "id": "EpYWez7OgkOl"
      }
    },
    {
      "cell_type": "markdown",
      "source": [
        "Un'altra operazione utile che possiamo effettuare con due vettori $\\mathbf{x} = (x_1, \\dots, x_n)$ e $\\mathbf{y} = (y_1, \\dots, y_n)$ della stessa dimensione è il *prodotto point-wise* $\\mathbf{x} \\odot \\mathbf{y}$ (detto anche *prodotto di Hadamard*). Tale prodotto è semplicemente dato dal vettore avente per componenti i prodotti tra le singole entrate dei due vettori (notare la natura locale, simile alle operazioni point-wise unarie viste in precedenza), $$\\mathbf{x} \\odot \\mathbf{y} = (x_1y_1, \\dots, x_ny_n)$$"
      ],
      "metadata": {
        "collapsed": false,
        "id": "pOqUi_mYgkOo"
      }
    },
    {
      "cell_type": "code",
      "execution_count": null,
      "outputs": [],
      "source": [
        "# prodotto point-wise tra vettori\n",
        "x = np.array([0, 3, 4.])\n",
        "y = np.array([3., 4., -0.5])\n",
        "\n",
        "print(f\"x = {x}\")\n",
        "print(f\"y = {y}\")\n",
        "\n",
        "print(f\"x * y = {x * y}\")\n",
        "# il prodotto point-wise gode della proprietà commutativa\n",
        "print(f\"y * x = {y * x}\")"
      ],
      "metadata": {
        "pycharm": {
          "name": "#%%\n"
        },
        "id": "AyPs2yg8gkOp"
      }
    },
    {
      "cell_type": "markdown",
      "source": [
        "Infine, introduciamo il prodotto scalare tra due vettori in $\\mathbb{R}^n$. Dati due vettori $\\mathbf{x} = (x_1, \\dots, x_n)$ e $\\mathbf{y} = (y_1, \\dots, y_n)$, il *prodotto scalare standard* (in inglese è detto *dot product* o *standard inner product*) è definito come $$\\mathbf{x} \\cdot \\mathbf{y} = \\langle \\mathbf{x}, \\mathbf{y} \\rangle = x_1y_1 + \\dots + x_ny_n.$$ Il nome di questo prodotto deriva dal fatto che l'output dell'operazione è uno scalare. Su uno spazio vettoriale $V$ possiamo definire una vasta gamma di prodotti scalari (se il campo dei scalari dello spazio vettoriale è l'insieme dei numeri complessi $\\mathbb{C}$ si parla di *prodotti Hermitiani*, che hanno proprietà leggermente diverse dai prodotti scalari reali), ma lavoreremo principalmente con il prodotto scalare standard in $\\mathbb{R}^n$, quindi sottindenderemo l'attributo standard in seguito.\n",
        "\n",
        "Il prodotto scalare gode delle seguenti proprietà fondamentali:\n",
        "1. Proprietà commutativa: $$\\langle \\mathbf{x}, \\mathbf{y} \\rangle =\\langle \\mathbf{y}, \\mathbf{x} \\rangle$$\n",
        "2. Bilinearità: $$\\langle \\lambda_1 \\mathbf{x}_1 + \\mu_1 \\mathbf{y}_1, \\lambda_2 \\mathbf{x}_2 + \\mu_2 \\mathbf{y}_2 \\rangle =\n",
        "\\lambda_1\\lambda_2 \\langle \\mathbf{x}_1, \\mathbf{x}_2 \\rangle +\n",
        "\\lambda_1\\mu_2 \\langle \\mathbf{x}_1, \\mathbf{y}_2 \\rangle +\n",
        "\\mu_1\\lambda_2 \\langle \\mathbf{y}_1, \\mathbf{x}_2 \\rangle +\n",
        "\\mu_1\\mu_2 \\langle \\mathbf{y}_1, \\mathbf{y}_2 \\rangle$$\n",
        "3. Definito positivo: $$x \\neq \\mathbf{0} \\Rightarrow \\langle \\mathbf{x}, \\mathbf{x} \\rangle > 0$$\n",
        "\n",
        "In $\\mathbb{R}^n$ la norma di un vettore e' definita a partire dal concetto di prodotto scalare. Infatti:\n",
        "$$ \\Vert \\mathbf{x} \\Vert = \\sqrt{x_1^2 + \\dots x_n^2} = \\sqrt{x_1x_1 + \\dots + x_nx_n} = \\sqrt{\\langle \\mathbf{x}, \\mathbf{x} \\rangle}.$$ Da notare che $\\Vert \\mathbf{x} \\Vert^2 = \\langle \\mathbf{x}, \\mathbf{x} \\rangle$.\n",
        "\n",
        "In NumPy il prodotto scalare viene effettuato con la funzione `inner` oppure con l'operatore `@`:"
      ],
      "metadata": {
        "collapsed": false,
        "pycharm": {
          "name": "#%% md\n"
        },
        "id": "hZ_iczV9gkOr"
      }
    },
    {
      "cell_type": "code",
      "execution_count": null,
      "outputs": [],
      "source": [
        "# prodotto scalare\n",
        "x = np.array([1., 3., 5.])\n",
        "y = np.array([0., -1., 2.])\n",
        "\n",
        "print(f\"np.inner(x, y) = {np.inner(x, y)}\")\n",
        "print(f\"x @ y = {x @ y}\")\n",
        "# controlliamo che la norma di un vettore e' data dalla radice del prodotto scalare di un vettore con se stesso\n",
        "\n",
        "print(f\"np.linalg.norm(x) = {np.linalg.norm(x)}\")\n",
        "print(f\"np.sqrt(x @ x) = {np.sqrt(x @ x)}\")"
      ],
      "metadata": {
        "pycharm": {
          "name": "#%%\n"
        },
        "id": "Rl9fKwrzgkOu"
      }
    },
    {
      "cell_type": "markdown",
      "source": [
        "##### Esercizi\n",
        "\n",
        "1. Inverti il verso di rotazione dell'orologio.\n",
        "2. Consideriamo $\\mathbb{R}^n[x]$, lo spazio vettoriale dei polinomi di grado al più $n$ (dimostra che è in effetti uno spazio vettoriale). Qualsiasi polinomio $$p(x) = a_n x^n + \\dots + a_1 x + a_0$$ può essere rappresentato dal vettore dei coefficienti $$\\mathbf{x} = (a_n, \\dots, a_0)$$ (contentente $n+1$ elementi). Disegna il polinomio rappresentato da $\\mathbf{x} = (3., 2., 1., 2.)$. (Hint: definisci un vettore contenente punti sull'asse delle $x$, poi applica operazioni su questo vettore per ottenere il vettore delle rispettive $y$)"
      ],
      "metadata": {
        "collapsed": false,
        "pycharm": {
          "name": "#%% md\n"
        },
        "id": "8mP2du3IgkOv"
      }
    },
    {
      "cell_type": "code",
      "execution_count": null,
      "outputs": [],
      "source": [
        "# spazio lasciato per gli esercizi\n",
        "\n",
        "# 2.\n",
        "xs = np.arange(-10, 10)\n",
        "coeff = ...\n",
        "ys = ...\n",
        "# plt.plot(xs, ys)"
      ],
      "metadata": {
        "pycharm": {
          "name": "#%%\n"
        },
        "id": "M8XD2DgagkOv"
      }
    },
    {
      "cell_type": "markdown",
      "source": [
        "### 1.d Combinazioni lineari, (In)Dipendenza lineare, Basi, Dimensione"
      ],
      "metadata": {
        "collapsed": false,
        "pycharm": {
          "name": "#%% md\n"
        },
        "id": "RgmCarvugkOw"
      }
    },
    {
      "cell_type": "markdown",
      "source": [
        "Usando le operazioni di uno spazio vettoriale (somma tra vettori e moltiplicazione per uno scalare) possiamo scrivere un vettore usando altri vettori. Una scrittura di questo tipo è detta *combinazione lineare*. Per esempio: $$ (1, 2, 3) = 1 (1, 0, 0) + 2 (0, 1, 0) + 3 (0, 0, 1) = 1 \\mathbf{e}_1 + 2 \\mathbf{e}_2 + 3 \\mathbf{e}_3$$"
      ],
      "metadata": {
        "collapsed": false,
        "pycharm": {
          "name": "#%% md\n"
        },
        "id": "K22K7YfDgkOw"
      }
    },
    {
      "cell_type": "code",
      "execution_count": null,
      "outputs": [],
      "source": [
        "x = np.array([1., 2., 3.])\n",
        "e1 = np.array([1., 0., 0.])\n",
        "e2 = np.array([0., 1., 0.])\n",
        "e3 = np.array([0., 0., 1.])\n",
        "\n",
        "# quando utilizziamo l'operatore di uguaglianza == tra vettori, Numpy effettua tale operazione\n",
        "# su ogni entrata restituendo un vettore booleano\n",
        "print(f\"x == e1 + 2*e2 + 3*e3 = {x == e1 + 2*e2 + 3*e3}\")\n",
        "\n",
        "# nel caso in cui vogliamo verificare l'uguaglianza tra vettori globalmente bisogna chiamare .all() sul vettore booleano,\n",
        "# la funzione restituisce True solo se tutte le entrate sono True\n",
        "print(f\"(x == e1 + 2*e2 + 3*e3).all() = { (x == e1 + 2*e2 + 3*e3).all()}\")"
      ],
      "metadata": {
        "pycharm": {
          "name": "#%%\n"
        },
        "id": "4bo49e9egkOw"
      }
    },
    {
      "cell_type": "markdown",
      "source": [
        "I coefficienti nella combinazione lineare precedente sono semplicemente $\\lambda_1 = 1$, $\\lambda_2 = 2$ e $\\lambda_3 = 3$ avendo scritto $\\mathbf{x}$ usando $\\mathbf{e}_1 = (1, 0, 0), \\mathbf{e}_2 = (0, 1, 0), \\mathbf{e}_3 = (0, 0, 1)$. Se vogliamo scrivere lo stesso vettore come combinazione lineare di $\\mathbf{x}_1 = (1, 0, 1), \\mathbf{x}_2 = (0, 2, 0), \\mathbf{x}_3 = (0, 2, 1)$ risulta più difficile trovare i coefficienti (Esercizio 1.d.1).\n",
        "\n",
        "Come esempio ulteriore, carichiamo dal disco le due tracce audio `bass.wav` e `drums.wav`."
      ],
      "metadata": {
        "collapsed": false,
        "pycharm": {
          "name": "#%% md\n"
        },
        "id": "vxDvCvwygkOy"
      }
    },
    {
      "cell_type": "code",
      "execution_count": null,
      "outputs": [],
      "source": [
        "import librosa\n",
        "sr = 44100\n",
        "bass, _ = librosa.load('bass.wav', sr=sr)\n",
        "drums, _ = librosa.load('drums.wav', sr=sr)"
      ],
      "metadata": {
        "pycharm": {
          "name": "#%%\n"
        },
        "id": "SBNq_IafgkOy"
      }
    },
    {
      "cell_type": "markdown",
      "source": [
        "I dati musicali caricati sono segnali audio campionati a 44100 Hz, ossia ogni secondo di suono è rappresentato da 44100 componenti. Vediamo il numero di componenti totali nei due vettori:"
      ],
      "metadata": {
        "collapsed": false,
        "pycharm": {
          "name": "#%% md\n"
        },
        "id": "lxKEQo9KgkOz"
      }
    },
    {
      "cell_type": "code",
      "execution_count": null,
      "outputs": [],
      "source": [
        "print(f\"bass.shape = {bass.shape}\")\n",
        "print(f\"drums.shape = {drums.shape}\")\n",
        "print(f\"drums.shape[0] / 44100 = {drums.shape[0] / sr}s = {drums.shape[0] / (sr * 60)}min\")\n",
        "print(f\"bass.shape[0] / 44100 = {bass.shape[0] / sr}s = {drums.shape[0] / (sr * 60)}min\")"
      ],
      "metadata": {
        "pycharm": {
          "name": "#%%\n"
        },
        "id": "mZLyQgKUgkO0"
      }
    },
    {
      "cell_type": "markdown",
      "source": [
        "Le due tracce hanno la stessa lunghezza, ossia 241 secondi (4 minuti). Visualizziamo il decimo secondo di entrambe le tracce."
      ],
      "metadata": {
        "collapsed": false,
        "pycharm": {
          "name": "#%% md\n"
        },
        "id": "RlRl-3m0gkO1"
      }
    },
    {
      "cell_type": "code",
      "execution_count": null,
      "outputs": [],
      "source": [
        "t = 10 #\n",
        "bass = bass[t*sr:(t+1)*sr]\n",
        "drums = drums[t*sr:(t+1)*sr]"
      ],
      "metadata": {
        "pycharm": {
          "name": "#%%\n"
        },
        "id": "PPl0xnh5gkO2"
      }
    },
    {
      "cell_type": "code",
      "execution_count": null,
      "outputs": [],
      "source": [
        "y = bass\n",
        "x = np.arange(y.shape[0])\n",
        "\n",
        "fig = plt.figure(figsize=(8, 6))\n",
        "ax = fig.add_subplot()\n",
        "ax.set_xlabel('t')\n",
        "ax.set_title('Basso')\n",
        "ax.plot(x, y, '-')\n",
        "plt.show()\n",
        "\n",
        "import IPython\n",
        "IPython.display.Audio(y, rate=sr)"
      ],
      "metadata": {
        "pycharm": {
          "name": "#%%\n"
        },
        "id": "oFyhNlPZgkO3"
      }
    },
    {
      "cell_type": "code",
      "execution_count": null,
      "outputs": [],
      "source": [
        "y = drums\n",
        "x = np.arange(y.shape[0])\n",
        "\n",
        "fig = plt.figure(figsize=(8, 6))\n",
        "ax = fig.add_subplot()\n",
        "ax.set_xlabel('t')\n",
        "ax.set_title('Batteria')\n",
        "ax.plot(x, y, '-')\n",
        "plt.show()\n",
        "\n",
        "IPython.display.Audio(y, rate=sr)"
      ],
      "metadata": {
        "pycharm": {
          "name": "#%%\n"
        },
        "id": "cGrR_aYrgkO4"
      }
    },
    {
      "cell_type": "markdown",
      "source": [
        "Effettuando la seguente combinazione lineare dei due vettori otteniamo la mistura:"
      ],
      "metadata": {
        "collapsed": false,
        "pycharm": {
          "name": "#%% md\n"
        },
        "id": "oLj-KrXfgkO6"
      }
    },
    {
      "cell_type": "code",
      "execution_count": null,
      "outputs": [],
      "source": [
        "mix = 0.5 * bass + 0.5 * drums\n",
        "y = mix\n",
        "x = np.arange(y.shape[0])\n",
        "\n",
        "fig = plt.figure(figsize=(8, 6))\n",
        "ax = fig.add_subplot()\n",
        "ax.set_xlabel('t')\n",
        "ax.set_title('Mistura')\n",
        "ax.plot(x, y, '-')\n",
        "plt.show()\n",
        "\n",
        "IPython.display.Audio(y, rate=sr)"
      ],
      "metadata": {
        "pycharm": {
          "name": "#%%\n"
        },
        "id": "sGBeJncUgkO6"
      }
    },
    {
      "cell_type": "markdown",
      "source": [
        "Se possiamo scrivere il vettore nullo $\\mathbf{0}$ come combinazione lineare di un insieme di vettori $X$ dove almeno un coefficiente nella combinazione non è 0, allora i vettori in $X$ sono detti *linearmente dipendenti*. Per esempio:"
      ],
      "metadata": {
        "collapsed": false,
        "pycharm": {
          "name": "#%% md\n"
        },
        "id": "y7BF0aawgkO6"
      }
    },
    {
      "cell_type": "code",
      "execution_count": null,
      "outputs": [],
      "source": [
        "x = np.array([1., 2., 3.])\n",
        "e1 = np.array([1., 0., 0.])\n",
        "e2 = np.array([0., 1., 0.])\n",
        "e3 = np.array([0., 0., 1.])\n",
        "\n",
        "print(f\"(np.zeros(3) == 1*x - 1*e1 - 2*e2 - 3*e3).all() = { (np.zeros(3) == 1*x - 1*e1 - 2*e2 - 3*e3).all() }\")"
      ],
      "metadata": {
        "pycharm": {
          "name": "#%%\n"
        },
        "id": "TGJ2xBv1gkO-"
      }
    },
    {
      "cell_type": "markdown",
      "source": [
        "I vettori $\\{\\mathbf{x}, \\mathbf{e}_1, \\mathbf{e}_2, \\mathbf{e}_3\\}$ sono linearmente dipendenti avendo scritto il vettore $\\mathbf{0}$ usando una combinazione lineare in cui almeno un coefficiente e' diverso da 0 (in questo caso, tutti i coefficienti sono diversi da 0). Se proviamo a scrivere il vettore $\\mathbf{0}$ usando l'insieme  $\\{\\mathbf{e}_1, \\mathbf{e}_2\\}$ l'unica combinazione lineare possibile è la seguente: $$\\mathbf{0} = 0\\mathbf{e}_1 + 0\\mathbf{e}_2 $$\n",
        "\n",
        "L'insieme $\\{\\mathbf{e}_1, \\mathbf{e}_2\\}$ è detto *linearmente indipendente* (non essendo linearmente dipendente). Se possiamo scrivere *ogni* vettore $v$ di uno spazio vettoriale $V$ come combinazione lineare di un insieme di vettori linearmente indipendenti $B = \\{b_1, \\dots, b_n\\}$, allora *B* è detto *base* di $V$ (in tal caso si dimostra che la combinazione lineare è unica). Il vettore $\\mathbf{x} = (x_1, \\dots, x_n)$ di $\\mathbb{R}^n$ che contiene i coefficienti della combinazione lineare $\\mathbf{v} = x_1 b_1 + \\dots + x_n b_n$ è detto vettore delle *coordinate* di $\\mathbf{x}$. Si può dimostrare che ogni spazio vettoriale ammette una base e che due basi di uno stesso spazio vettoriale contengono lo stesso numero di elementi (la *dimensione* dello spazio).\n",
        "\n",
        "Per esempio una base di $\\mathbb{R}^n$ è $\\{\\mathbf{e}_1, \\dots, \\mathbf{e}_n\\}$, detta anche *base canonica* o *base standard*."
      ],
      "metadata": {
        "collapsed": false,
        "pycharm": {
          "name": "#%% md\n"
        },
        "id": "NcAffwycgkO_"
      }
    },
    {
      "cell_type": "code",
      "execution_count": null,
      "outputs": [],
      "source": [
        "e1 = np.array([1., 0.,])\n",
        "e2 = np.array([0., 1.])\n",
        "x1 = np.random.rand(2)\n",
        "x2 = np.random.rand(2) # è poco probabile (evento a misura nulla) ottenre un vettore linearmente dipendente a x1 (ossia che sta nella retta su cui poggia x1), ma comunque potrebbe stare vicino (in tal caso si può fare un refresh per avere un nuovo candidato più visualizzabile)\n",
        "plot_vectors_2d(e1, e2, x1, x2, colors=['r', 'r', 'b', 'b'], title=\"Due basi\", labels=['$\\mathbf{e}_1$', '$\\mathbf{e}_2$',\n",
        "                                                                                       '$\\mathbf{x}_1$', '$\\mathbf{x}_2$'])"
      ],
      "metadata": {
        "pycharm": {
          "name": "#%%\n"
        },
        "id": "KZ8puZkjgkPA"
      }
    },
    {
      "cell_type": "markdown",
      "source": [
        "Il concetto di base ha un'importanza capillare nell'algebra lineare e nel calcolo numerico più in generale. Questo perchè avendo fissato una base $B$ in uno spazio vettoriale $V$ ($n$-dimensionale) qualsiasi, possiamo rappresentare tutti gli elementi di $V$ con i vettori delle coordinate rispetto alla base $B$. Quindi scelta una base $B$ ($n$-dimensionale), $V$ ha la stessa struttura di $\\mathbb{R}^n$ e possiamo fare tutti i calcoli in quest'ultimo spazio.\n",
        "\n",
        "Per esempio, come visto nell'esercizio sui polinomi, ogni polinomio di $\\mathbb{R}^n[x]$ è in relazione biunivoca con un vettore di coefficienti in $\\mathbb{R}^{n+1}$ scegliendo la base $B = \\{1, x, x^2, \\dots, x^n\\}$:\n",
        "$$v = 2x^2 + 3x + 1 \\Rightarrow \\mathbf{x} = (2, 3, 1)$$\n",
        "$$v = -2x^3 - x^2 + 5 \\Rightarrow \\mathbf{x} = (-2, -1, 0, 5).$$\n",
        "\n",
        "Quando lo spazio $V$ è $\\mathbb{R}^n$, sia il vettore che vogliamo rappresentare che la rappresentazione in una base $B$ (il vettore delle coordinate) è una $n$-upla $(x_1, \\dots, x_n)$. Per esempio possiamo considerare il vettore $(1, 2, 3)$: la sua rappresentazione rispetto alla base canonica è $(1,2,3)$ mentre se scegliamo per esempio la base $$B = \\{(2, 1, -2), (2, 2, 2), (1, -1, 1)\\},$$ la rappresentazione è $(-0.5, 1.125, -0.25)$. Come nota aggiuntiva, bisogna far attenzione al fatto che le entrate in un vettore di coordinate sono ordinate rispetto a un ordinamento dei vettori nella base. Per questo motivo, una base deve essere intesa come un insieme ordinato o una lista.\n",
        "Controlliamo l'esempio precedente:"
      ],
      "metadata": {
        "collapsed": false,
        "pycharm": {
          "name": "#%% md\n"
        },
        "id": "kToaAlRdgkPA"
      }
    },
    {
      "cell_type": "code",
      "execution_count": null,
      "outputs": [],
      "source": [
        "x = np.array([1, 2, 3])\n",
        "b1 = np.array([2, 1, -2])\n",
        "b2 = np.array([2, 2, 2])\n",
        "b3 = np.array([1, -1, 1])\n",
        "e1 = np.array([1., 0., 0.])\n",
        "e2 = np.array([0., 1., 0.])\n",
        "e3 = np.array([0., 0., 1.])\n",
        "\n",
        "x_c = np.array([-0.5, 1.125, -0.25])\n",
        "print(f\"(x == x_c[0]*b1 + x_c[1]*b2 + x_c[2]*b3).all() = {(x == x_c[0]*b1 + x_c[1]*b2 + x_c[2]*b3).all()}\")"
      ],
      "metadata": {
        "pycharm": {
          "name": "#%%\n"
        },
        "id": "B90C3CgqgkPB"
      }
    },
    {
      "cell_type": "code",
      "execution_count": null,
      "outputs": [],
      "source": [
        "plot_vectors_3d(x, b1, b2, b3, e1, e2, e3, colors=['g', 'r', 'r', 'r', 'b', 'b', 'b'], title=\"Due basi\", labels=['$\\mathbf{x}$', '$\\mathbf{b}_1$',\n",
        "                                                                                                                 '$\\mathbf{b}_2$', '$\\mathbf{b}_3$',\n",
        "                                                                                                                 '$\\mathbf{e}_1$', '$\\mathbf{e}_2$',\n",
        "                                                                                                                 '$\\mathbf{e}_3$'],\n",
        "                xlim=2.2, ylim=2.2, zlim=2.2)"
      ],
      "metadata": {
        "pycharm": {
          "name": "#%%\n"
        },
        "id": "Oy0eglbUgkPC"
      }
    },
    {
      "cell_type": "markdown",
      "source": [
        "Come visto sopra, spesso ci ritroviamo a usare due basi diverse $B_1$ e $B_2$ in $\\mathbb{R}^n$ (tipicamente una delle due è la base canonica). Vedremo in seguito come effettuare *cambiamenti di base* (ossia come cambiano le coordinate passando da una base a un'altra). La situazione diventa più manegevole quando usiamo basi dette *ortonormali*. Due vettori $\\mathbf{x}_1$ e $\\mathbf{x}_2$ di $\\mathbb{R}^n$ sono detti *ortogonali* se $\\langle \\mathbf{x}_1, \\mathbf{x}_2 \\rangle = 0$. Questa proprietà generalizza il concetto di angolo retto tra due vettori geometrici a spazi vettoriali finito-dimensionali in cui sia possibile definire il prodotto scalare. Inoltre se vale *anche* $\\Vert \\mathbf{x}_1 \\Vert = \\Vert \\mathbf{x}_2 \\Vert = 1$ (ossia hanno norma 1 entrambi), allora i due vettori sono detti *ortonormali*. Se i vettori di una base sono ortonormali a due a due allora la base è detta ortonormale. La base canonica è ortonormale:"
      ],
      "metadata": {
        "collapsed": false,
        "pycharm": {
          "name": "#%% md\n"
        },
        "id": "u6j4plS2gkPD"
      }
    },
    {
      "cell_type": "code",
      "execution_count": null,
      "outputs": [],
      "source": [
        "e1 = np.array([1., 0., 0.])\n",
        "e2 = np.array([0., 1., 0.])\n",
        "e3 = np.array([0., 0., 1.])\n",
        "\n",
        "print(f\"np.linalg.norm(e1) = { np.linalg.norm(e1) }\")\n",
        "print(f\"np.linalg.norm(e2) = { np.linalg.norm(e2) }\")\n",
        "print(f\"np.linalg.norm(e3) = { np.linalg.norm(e3) }\")\n",
        "print(f\"e1 @ e2 = { e1 @ e2 }\")\n",
        "print(f\"e1 @ e3 = { e1 @ e3 }\")\n",
        "print(f\"e2 @ e3 = { e2 @ e3 }\")"
      ],
      "metadata": {
        "pycharm": {
          "name": "#%%\n"
        },
        "id": "fkXa7HnCgkPD"
      }
    },
    {
      "cell_type": "markdown",
      "source": [
        "Applicando le rotazioni alla base canonica in $\\mathbb{R}^2$ otteniamo tutte le possibili basi ortonormali (a meno dell'ordinamento; possiamo ottenerle tutte considerando le riflessioni). Lasciamo per esercizio questo fatto."
      ],
      "metadata": {
        "collapsed": false,
        "pycharm": {
          "name": "#%% md\n"
        },
        "id": "BU3Maf7BgkPE"
      }
    },
    {
      "cell_type": "markdown",
      "source": [
        "Ritorniamo al cambiamento di base. Si dimostra che per ottenere le coordinate di un vettore $\\mathbf{x}$ relative a una base ortonormale $B = \\{ \\mathbf{x}_1, \\dots, \\mathbf{x}_n \\},$ basta effetuare il prodotto scalare con i vettori della base: $$\\mathbf{x} = \\langle \\mathbf{x}, \\mathbf{x}_1 \\rangle \\mathbf{x}_1 + \\dots + \\langle \\mathbf{x}, \\mathbf{x}_n \\rangle \\mathbf{x}_n$$\n",
        "Per esempio:"
      ],
      "metadata": {
        "collapsed": false,
        "pycharm": {
          "name": "#%% md\n"
        },
        "id": "eJjl0k3ekDch"
      }
    },
    {
      "cell_type": "code",
      "execution_count": null,
      "outputs": [],
      "source": [
        "x = np.array([1., 2.])\n",
        "b1 = np.array([np.sqrt(2)/2, np.sqrt(2)/2])\n",
        "b2 = np.array([-np.sqrt(2)/2, np.sqrt(2)/2])\n",
        "\n",
        "print(f\"{np.linalg.norm(b1) = }\")\n",
        "print(f\"{np.linalg.norm(b2) = }\")\n",
        "print(f\"{b1 @ b2 = }\")\n",
        "\n",
        "print(f\"{((b1 @ x) * b1 + (b2 @ x) * b2 == x).all() = }\")"
      ],
      "metadata": {
        "pycharm": {
          "name": "#%%\n"
        },
        "id": "IKNafqq5kDch"
      }
    },
    {
      "cell_type": "markdown",
      "source": [
        "Aspetta! Sembra che il teorema non vale! Eppure se stampio i due risultati separatamente, otteniamo:"
      ],
      "metadata": {
        "collapsed": false,
        "pycharm": {
          "name": "#%% md\n"
        },
        "id": "wvTpqJDVkDch"
      }
    },
    {
      "cell_type": "code",
      "execution_count": null,
      "outputs": [],
      "source": [
        "print(f\"{((b1 @ x) * b1 + (b2 @ x) * b2) = }\")\n",
        "print(f\"{x = }\")"
      ],
      "metadata": {
        "pycharm": {
          "name": "#%%\n"
        },
        "id": "UGolCYE8kDch"
      }
    },
    {
      "cell_type": "markdown",
      "source": [
        "Che stregoneria è questa 🔮? In verità se esaminiamo la seconda componente del primo membro, otteniamo:"
      ],
      "metadata": {
        "collapsed": false,
        "pycharm": {
          "name": "#%% md\n"
        },
        "id": "8xRO2SrpkDci"
      }
    },
    {
      "cell_type": "code",
      "execution_count": null,
      "outputs": [],
      "source": [
        "print(f\"{((b1 @ x) * b1 + (b2 @ x) * b2)[1] = }\")"
      ],
      "metadata": {
        "pycharm": {
          "name": "#%%\n"
        },
        "id": "fGljiBYNkDci"
      }
    },
    {
      "cell_type": "markdown",
      "source": [
        "La componente calcolata non è esattamente 2. Questo fenomeno è legato alla rappresentazione in virgola mobile `float64`. Effettuare calcoli usando la rappentazione in virgola mobile può sempre portare un margine di errore. Per essere più robusti ad errori di rappresentazione numerica come questo possiamo usare la funzione `isclose` di NumPy in alternativa all'operatore di uguaglianza `==`:"
      ],
      "metadata": {
        "collapsed": false,
        "pycharm": {
          "name": "#%% md\n"
        },
        "id": "RoaXZM5IkDci"
      }
    },
    {
      "cell_type": "code",
      "execution_count": null,
      "outputs": [],
      "source": [
        "print(f\"{np.isclose((b1 @ x) * b1 + (b2 @ x) * b2, x).all() = }\")"
      ],
      "metadata": {
        "pycharm": {
          "name": "#%%\n"
        },
        "id": "Ngz3KbbukDci"
      }
    },
    {
      "cell_type": "markdown",
      "source": [
        "##### Esercizi\n",
        "\n",
        "1. Scrivi il vettore $(1,2,3)$ nella base $B = \\{(1, 0, 1), (0, 2, 0), (0, 2, 1)\\}$\n",
        "2. Dimostra che i vettori ottenuti applicando una rotazione a due vettori ortonormali sono ortonormali. Hint: usare la relazione trigonometrica fondamentale $$ \\sin^2(\\theta) + \\cos^2(\\theta) = 1$$"
      ],
      "metadata": {
        "collapsed": false,
        "pycharm": {
          "name": "#%% md\n"
        },
        "id": "ThlKHd7rkDci"
      }
    },
    {
      "cell_type": "markdown",
      "source": [
        "###### Ex. 1\n",
        "\n",
        "Il coefficiente di $(1,0,1)$ è $1$, dato che la prima componente di $(0,2,0)$ e $(0,2,1)$ è $0$. Possiamo quindi procedere a combinare $(1,2,3) - (1,0,1) = (0, 2, 2)$: dato che la terza componente di $(0, 2, 0)$ è $0$, il coefficiente di $(0,2,1)$ è $2$. Calcoliamo $(0,2,2) - 2(0,2,1) = (0, -2, 0)$. Quindi il coefficiente di $(0,2,0)$ è $-1$. Ricapitolando, la soluzione è $(1, -1, 2)$."
      ],
      "metadata": {
        "id": "kiZwXYQnv-Qq"
      }
    },
    {
      "cell_type": "markdown",
      "source": [
        "## 2. Matrici\n"
      ],
      "metadata": {
        "id": "VMz59CzA2Vyl"
      }
    },
    {
      "cell_type": "markdown",
      "source": [
        "### 2.a Creazione di matrici\n",
        "\n",
        "Avendo famigliarizzato con i vettori, non è molto complicato passare alle matrici.\n",
        "\n",
        "Ricordiamo che una matrice $m \\times n$ (reale) $X \\in \\mathbb{R}^{m\\times n}$ è una tabella contenente numeri reali disposti su $m$ righe ed $n$ colonne: $$ \\begin{bmatrix}X_{1,1}&  \\dots & X_{1,n} \\\\ \n",
        "\\vdots &  \\ddots & \\vdots \\\\ X_{m,1} & \\dots & X_{m,n}\\end{bmatrix}$$ \n",
        "\n",
        "In NumPy una matrice è rappresentata sempre da un oggetto di tipo `numpy.ndarray`, che contiene due *assi* (detti anche dimensioni in NumPy, termine che cercheremo di evitare dato che può essere confuso con il concetto di dimensione di uno spazio vettoriale) invece di uno solo come nel caso dei vettori. Nel caso della matrice precedente, il primo asse contiene $m$ entrate mentre il secondo $n$ entrate.\n",
        "\n",
        "Possiamo creare delle matrici passando alla funzione `array` una lista di liste (invece che una semplice lista) oppure attraverso la funzione `random.rand`:"
      ],
      "metadata": {
        "id": "FAPUVPUR22me"
      }
    },
    {
      "cell_type": "code",
      "source": [
        "X1 = np.array([[1., 2.], [3., 4.]])\n",
        "X2 = np.random.rand(2, 3) # passiamo il numero di righe e di colonne\n",
        "\n",
        "print(f\"X1 = {X1}\")\n",
        "print(f\"X2 = {X2}\")"
      ],
      "metadata": {
        "id": "oSQZ4hKL79EW"
      },
      "execution_count": null,
      "outputs": []
    },
    {
      "cell_type": "markdown",
      "source": [
        "Se uno dei due assi ha una sola entrata, allora ci riduciamo al caso precedente ed otteniamo un vettore. Diversamente dal caso precedente però, abbiamo due possibili modi per descrivere il vettore risultante: come vettore *riga* o vettore *colonna*. Per esempio:"
      ],
      "metadata": {
        "id": "ORac62L588v_"
      }
    },
    {
      "cell_type": "code",
      "source": [
        "x = np.array([1., 2., 3.])\n",
        "row_x = np.array([[1., 2., 3.]])\n",
        "column_x = np.array([[1.],[2.],[3.]])\n",
        "\n",
        "print(f\"x = {x}\")\n",
        "print(f\"row_x = {row_x}\")\n",
        "print(f\"column_x = {column_x}\")\n"
      ],
      "metadata": {
        "id": "5rZlFJ5E9_PK"
      },
      "execution_count": null,
      "outputs": []
    },
    {
      "cell_type": "markdown",
      "source": [
        "Tipicamente, la notazione del vettore con un singolo asse viene fatta coincidere con il vettore colonna. Per conoscere a posteriori il numero di entrate su ogni asse, possiamo usare l'attributo `shape`:"
      ],
      "metadata": {
        "id": "tHuD42ncA49H"
      }
    },
    {
      "cell_type": "code",
      "source": [
        "print(f\"x.shape = {x.shape}\")\n",
        "print(f\"row_x.shape = {row_x.shape}\")\n",
        "print(f\"column_x.shape = {column_x.shape}\")\n",
        "print(f\"X1.shape = {X1.shape}\")"
      ],
      "metadata": {
        "id": "NzHkJlVNA4CV"
      },
      "execution_count": null,
      "outputs": []
    },
    {
      "cell_type": "markdown",
      "source": [
        "Per indicizzare le matrici usiamo di nuovo la sintassi con le parentesi quadrate come in Python."
      ],
      "metadata": {
        "id": "BGv-4oGRCBKz"
      }
    },
    {
      "cell_type": "code",
      "source": [
        "X = np.array([[1.,2., 3.], [4.,5.,6.],[7.,8.,9.]])\n",
        "print(f\"X = {X}\")\n",
        "\n",
        "print(f\"X[0, 2] = {X[0, 2]}\")\n",
        "\n",
        "# seleziona la prima riga (da notare che il risultato e' un vettore con 1 asse)\n",
        "print(f\"X[0, :] = {X[0, :]}\")\n",
        "# seleziona la prima colonna \n",
        "print(f\"X[:, 0] = {X[:, 0]}\")\n",
        "# seleziona la sotto-matrice ottenuta prendendo i primi due indici per ogni asse\n",
        "print(f\"X[:2, :2] = {X[:2, :2]}\")"
      ],
      "metadata": {
        "id": "6w96E10qCdkB"
      },
      "execution_count": null,
      "outputs": []
    },
    {
      "cell_type": "markdown",
      "source": [
        "Possiamo visualizzare il contenuto di una matrice usando la unzione `imshow` di Matplotlib:"
      ],
      "metadata": {
        "id": "EzozqdIDD9fV"
      }
    },
    {
      "cell_type": "markdown",
      "source": [
        "Adesso mostriamo alcuni esempi di matrici importanti:\n",
        "\n",
        "1. Matrice nulla $O$ in cui ogni entrata è uguale a 0: `np.zeros`\n",
        "2. Matrice identità $I$ in cui ogni entrata diagonale è uguale a 1 mentre le altre sono uguali a 0: `np.eye`\n",
        "3. Matrice diagonale $D$ in cui ogni entrata diagonale è diversa da 0 mentre le altre sono uguali a 0: può essere creata con `np.diag`\n",
        "\n",
        "Vediamo come creare queste matrici in NumPy:"
      ],
      "metadata": {
        "id": "Jm8eKZd7-NxS"
      }
    },
    {
      "cell_type": "code",
      "source": [
        "# matrice nulla; diversamente dal vettore zero, bisogna passare\n",
        "# una tupla contenente il numero di entrate per ogni asse\n",
        "print(f\"np.zeros((2,3)) = {np.zeros((2,3))}\")\n",
        "\n",
        "# matrice identità (essendo quadrata, bisogna passare solo una dimensionalità)\n",
        "print(f\"np.eye(3) = {np.eye(3)}\")\n",
        "\n",
        "# matrice diagonale\n",
        "# creiamo un vettore random\n",
        "d = np.random.rand(3)\n",
        "print(f\"d = {d}\")\n",
        "# passiamo il vettore a diag per ottenere la matrice diagonale\n",
        "print(f\"np.diag(d) = {np.diag(d)}\")\n"
      ],
      "metadata": {
        "id": "Vx6ICNfDAeL2"
      },
      "execution_count": null,
      "outputs": []
    },
    {
      "cell_type": "markdown",
      "source": [
        "### 2.b Operazioni su matrici\n",
        "  \n",
        "Come visto nella lezione teorica, lo spazio delle matrici $\\mathbb{R}^{m\\times n}$ è uno spazio vettoriale. Quindi una matrice è a tutti gli effeti un vettore (in particolare possiamo rappresentare la tabella con un vettore numerico per esempio concatenando le righe o le colonne). Possiamo perciò effettuare le comuni operazioni di moltiplicazione per uno scalare e la somma. \n"
      ],
      "metadata": {
        "id": "B2dubb023axC"
      }
    },
    {
      "cell_type": "code",
      "source": [
        "A = np.array([[1., 2., 3.], [4., 5., 6.], [7., 8., 9.]])\n",
        "B = np.array([[10., 11., 12.], [13., 14., 15.], [16., 17., 18.]])\n",
        "\n",
        "print(f\"A = {A}\")\n",
        "print(f\"B = {B}\")\n",
        "\n",
        "# moltiplicazione per scalare\n",
        "print(f\"2*A = {2*A}\")\n",
        "\n",
        "# somma tra matrici\n",
        "print(f\"A + B = {A + B}\")"
      ],
      "metadata": {
        "id": "bzEHFgdNJf_G"
      },
      "execution_count": null,
      "outputs": []
    },
    {
      "cell_type": "markdown",
      "source": [
        "Con le matrici è possibile effettuare un'operazione importante, il prodotto tra matrici (in realtà anche con i vettori ma in tal caso coincide con il prodotto scalare). Il prodotto tra tue matrici $A \\in \\mathbb{R}^{m\\times n}$ e $B^{n \\times p}$ è dato dalla matrice $C^{m \\times p}$ tale che $C_{ij} = \\langle A_{i,:}, B_{:,j}\\rangle$ (il prodotto scalare tra la riga $i$-esima di $A$ e la colonna $j$-esima di $B$). Per effettuare il prodotto tra matrici possiamo usare `np.matmul` o `@`. \n",
        "\n",
        "Warning: \n",
        "1. il prodotto tra matrici *non è* simmetrico!\n",
        "2. `@` ha la stessa semantica di `np.inner` quando e' calcolato tra vettori (array di dimensione 1) e di `np.matmul` su array di dimensione > 1. `np.inner` su array di dimensione > 1 non e' equivalente a `np.matmul` (piu' dettagli nella documentazione di NumPy: https://numpy.org/doc/stable/reference/generated/numpy.inner.html)\n"
      ],
      "metadata": {
        "id": "Zd9ns24JJgds"
      }
    },
    {
      "cell_type": "code",
      "source": [
        "A = np.array([[1., 2., 3.], [4., 5., 6.], [7., 8., 9.]])\n",
        "B = np.array([[10., 11., 12.], [13., 14., 15.], [16., 17., 18.]])\n",
        "\n",
        "print(f\"A = {A}\")\n",
        "print(f\"B = {B}\")\n",
        "print(f\"np.matmul(A,B) = {np.matmul(A,B)}\")\n",
        "print(f\"A @ B = {A @ B}\")\n",
        "print(f\"B @ A = {B @ A}\")\n",
        "print(f\"np.isclose(A @ B, B @ A).all() = {np.isclose(A @ B, B @ A).all()}\")"
      ],
      "metadata": {
        "id": "BY5O5InqLSTJ"
      },
      "execution_count": null,
      "outputs": []
    },
    {
      "cell_type": "markdown",
      "source": [
        "Possiamo moltiplicare una matrice per un vettore (anche se quest'ultimo ha un solo asse). Il risultato è un vettore:"
      ],
      "metadata": {
        "id": "D-E9t7H7L_mE"
      }
    },
    {
      "cell_type": "code",
      "source": [
        "A = np.array([[1., 2., 3.], [4., 5., 6.], [7., 8., 9.]])\n",
        "x = np.array([1., 0.5, 0.1])\n",
        "\n",
        "print(f\"A @ x = {A @ x}\")"
      ],
      "metadata": {
        "id": "w-UoFz9wMIs0"
      },
      "execution_count": null,
      "outputs": []
    },
    {
      "cell_type": "markdown",
      "source": [
        "Con le matrici possiamo effettuare operazioni unarie che non possiamo effettuare con i vettori (quindi aventi un solo asse). La prima di queste operazioni è la *trasposizione*: data una matrice $X$, la sua trasposta è la matrice $X^T$, dove $X_{i,j}^T = X_{j, i}$. Per ottenere la trasposta possiamo usare sia l'attributo `T` che la funzione `transpose`:"
      ],
      "metadata": {
        "id": "1as79LKsMWIR"
      }
    },
    {
      "cell_type": "code",
      "execution_count": null,
      "outputs": [],
      "source": [
        "X = np.array([[1., 2., 3.], [4., 5., 6.], [7., 8., 9.]])\n",
        "\n",
        "print(f\"X  = {X}\")\n",
        "print(f\"X.T  = {X.T}\")\n",
        "print(f\"np.transpose(X) = {np.transpose(X)}\")"
      ],
      "metadata": {
        "pycharm": {
          "name": "#%%\n"
        },
        "id": "ZkFW8ExZkDcl"
      }
    },
    {
      "cell_type": "markdown",
      "source": [
        "Se abbiamo una matrice *quadrata* $X$ le cui colonne sono linearmente indipendenti, allora esiste la matrice $X^{-1}$ (l'inversa di $X$), tale che $XX^{-1} = X^{-1}X = I$. Per controllare che le colonne di una matrice sono linearmente indipendenti possiamo verificare che il determinante della matrice ($\\det(A)$) sia deverso da 0. Non approfondiamo il significato del determinante in questa lezione (lo vedremo nelle prossime lezioni), però usiamo la funzione `linalg.det` come metodo black-box. Per calcolare l'inversa si può usare la funzione `linalg.inv` di NumPy:"
      ],
      "metadata": {
        "collapsed": false,
        "pycharm": {
          "name": "#%% md\n"
        },
        "id": "tF1PD7XckDcl"
      }
    },
    {
      "cell_type": "code",
      "source": [
        "X = np.array([[1., -1., 3.], [4., 5., 6.], [7., 8., 9.]])\n",
        "\n",
        "print(f\"X  = {X}\")\n",
        "# il determinante è diverso da 0. quindi le 3 colonne sono linearmente indipendenti\n",
        "print(f\"np.linalg.det(X)  = {np.linalg.det(X)}\")\n",
        "print(f\"np.linalg.inv(X) = {np.linalg.inv(X)}\")\n",
        "\n",
        "# controlliamo che vale XX^-1 = I\n",
        "print(f\"X @ np.linalg.inv(X)  = {X @ np.linalg.inv(X)}\")"
      ],
      "metadata": {
        "id": "lfI-4_xnLhjK"
      },
      "execution_count": null,
      "outputs": []
    },
    {
      "cell_type": "markdown",
      "source": [
        "### Esercizi:\n",
        "1. Una matrice $X$ è detta simmetrica se $X_{i,j} = X_{j,i}$. Definisci una funzione che genera matrici simmetriche casuali. (Hint: usa la trasposta)\n",
        "2. Esprimi il cambiamento di base visto nella Sezione 1 come una moltiplicazione tra una matrice e un vettore."
      ],
      "metadata": {
        "id": "Df1pWW3WMZSE",
        "pycharm": {
          "name": "#%% md\n"
        }
      }
    },
    {
      "cell_type": "code",
      "execution_count": null,
      "outputs": [],
      "source": [
        "# 1\n",
        "n = 3\n",
        "X = np.random.rand(n, n)\n",
        "X = X @ X.T\n",
        "print(f\"X = {X}\")"
      ],
      "metadata": {
        "pycharm": {
          "name": "#%%\n"
        },
        "id": "UDTBbS12kDcm"
      }
    }
  ],
  "metadata": {
    "kernelspec": {
      "display_name": "Python 3",
      "language": "python",
      "name": "python3"
    },
    "language_info": {
      "codemirror_mode": {
        "name": "ipython",
        "version": 2
      },
      "file_extension": ".py",
      "mimetype": "text/x-python",
      "name": "python",
      "nbconvert_exporter": "python",
      "pygments_lexer": "ipython2",
      "version": "2.7.6"
    },
    "colab": {
      "provenance": [],
      "include_colab_link": true
    }
  },
  "nbformat": 4,
  "nbformat_minor": 0
}